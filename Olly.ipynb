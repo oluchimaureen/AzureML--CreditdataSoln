{
  "cells": [
    {
      "cell_type": "markdown",
      "source": [
        "Steps followed\n",
        "\n",
        "1. Click on the username and upload your file\n",
        "\n",
        "2. Navigate to your resource and select the storage account for the machine learning, by the left hand side scroll down to the container\n",
        "\n",
        "3. Select the \"azureml\" and click on the upload, get the data.\n",
        "\n",
        "4. then click on the \"data\" to create Data stores but before then you will see option to select where the file is coming from whether Azure storage, web file, local files.\n",
        "\n",
        "5. Once done, go back to AML studio, create a compute, then create a file and then import all the necessary libraries.\n",
        "\n",
        "6. Remember to go your profile and download config so that you can defined the config and hide your sub id.\n"
      ],
      "metadata": {
        "nteract": {
          "transient": {
            "deleting": false
          }
        }
      }
    },
    {
      "cell_type": "code",
      "source": [
        "# Import all necessary libraries\n",
        "import os\n",
        "from azure.identity import DefaultAzureCredential, AzureCliCredential\n",
        "from azure.ai.ml import automl, Input, MLClient, command\n",
        "from azure.ai.ml.constants import AssetTypes\n",
        "from azure.ai.ml.entities import Data\n",
        "from azure.ai.ml.automl import (\n",
        "    classification,\n",
        "    ClassificationPrimaryMetrics,\n",
        "    ClassificationModels,\n",
        ")"
      ],
      "outputs": [],
      "execution_count": 1,
      "metadata": {
        "gather": {
          "logged": 1737467521100
        }
      }
    },
    {
      "cell_type": "code",
      "source": [
        "from azure.identity import DefaultAzureCredential\n",
        "from azure.ai.ml import MLClient\n",
        "\n",
        "try:\n",
        "    credential = DefaultAzureCredential()\n",
        "except Exception as ex:\n",
        "    print(\"Authentication failed:\", ex)\n",
        "\n",
        "# Automatically loads configuration from config.json or config.yaml\n",
        "ml_client = MLClient.from_config(credential=credential)\n",
        "\n",
        "# Verify the connection\n",
        "workspace = ml_client.workspaces.get(ml_client.workspace_name)\n",
        "print(workspace.location, \":\", workspace.resource_group)"
      ],
      "outputs": [
        {
          "output_type": "stream",
          "name": "stderr",
          "text": "Found the config file in: /config.json\n"
        },
        {
          "output_type": "stream",
          "name": "stdout",
          "text": "eastus2 : OllyResource\n"
        }
      ],
      "execution_count": 3,
      "metadata": {
        "gather": {
          "logged": 1737467948054
        }
      }
    },
    {
      "cell_type": "code",
      "source": [
        "training_data_input = Input(\n",
        "    type=AssetTypes.MLTABLE, path=\"azureml:credit_card:1\"\n",
        ")"
      ],
      "outputs": [],
      "execution_count": 4,
      "metadata": {
        "gather": {
          "logged": 1737468028625
        }
      }
    },
    {
      "cell_type": "code",
      "source": [
        "from azure.ai.ml import automl\n",
        "\n",
        "classification_job = automl.classification(\n",
        "    compute=\"oluchi1\",\n",
        "    experiment_name=\"credit_card_data\",\n",
        "    training_data=training_data_input,\n",
        "    target_column_name=\"default payment next month\",  \n",
        "    primary_metric=\"accuracy\",\n",
        "    n_cross_validations=5,\n",
        "    enable_model_explainability=True\n",
        ")\n",
        "classification_job.set_limits(\n",
        "    timeout_minutes=30, \n",
        "    trial_timeout_minutes=10, \n",
        "    max_trials=5,\n",
        "    enable_early_termination=True,\n",
        ")"
      ],
      "outputs": [],
      "execution_count": 5,
      "metadata": {
        "gather": {
          "logged": 1737468062745
        }
      }
    },
    {
      "cell_type": "code",
      "source": [
        "# Submit the classification job\n",
        "returned_job = ml_client.jobs.create_or_update(classification_job)\n",
        "\n",
        "# Print the Studio URL for manual monitoring\n",
        "aml_url = returned_job.studio_url\n",
        "print(\"Monitor your job at\", aml_url)\n",
        "\n",
        "# Stream logs for real-time updates\n",
        "print(\"Waiting for the job to complete...\")\n",
        "ml_client.jobs.stream(returned_job.name)"
      ],
      "outputs": [
        {
          "output_type": "stream",
          "name": "stdout",
          "text": "Monitor your job at https://ml.azure.com/runs/frank_rocket_szndvt4fgq?wsid=/subscriptions/1f0ec4ef-e180-4466-9c30-2e149184e9ab/resourcegroups/ollyresource/workspaces/ml-labs&tid=34ea182a-acca-40ce-b226-803d6dc7617b\nWaiting for the job to complete...\nRunId: frank_rocket_szndvt4fgq\nWeb View: https://ml.azure.com/runs/frank_rocket_szndvt4fgq?wsid=/subscriptions/1f0ec4ef-e180-4466-9c30-2e149184e9ab/resourcegroups/ollyresource/workspaces/ml-labs\n\nExecution Summary\n=================\nRunId: frank_rocket_szndvt4fgq\nWeb View: https://ml.azure.com/runs/frank_rocket_szndvt4fgq?wsid=/subscriptions/1f0ec4ef-e180-4466-9c30-2e149184e9ab/resourcegroups/ollyresource/workspaces/ml-labs\n\n"
        }
      ],
      "execution_count": 6,
      "metadata": {
        "gather": {
          "logged": 1737468911206
        }
      }
    },
    {
      "cell_type": "code",
      "source": [
        "import mlflow\n",
        "# Obtain the tracking URL from MLClient\n",
        "MLFLOW_TRACKING_URI = ml_client.workspaces.get(\n",
        "    name=ml_client.workspace_name\n",
        ").mlflow_tracking_uri\n",
        "\n",
        "print(MLFLOW_TRACKING_URI)"
      ],
      "outputs": [
        {
          "output_type": "stream",
          "name": "stdout",
          "text": "azureml://eastus2.api.azureml.ms/mlflow/v1.0/subscriptions/1f0ec4ef-e180-4466-9c30-2e149184e9ab/resourceGroups/OllyResource/providers/Microsoft.MachineLearningServices/workspaces/ml-labs\n"
        }
      ],
      "execution_count": 7,
      "metadata": {
        "gather": {
          "logged": 1737468924044
        }
      }
    },
    {
      "cell_type": "code",
      "source": [
        "# Set the MLFLOW TRACKING URI\n",
        "\n",
        "mlflow.set_tracking_uri(MLFLOW_TRACKING_URI)\n",
        "\n",
        "print(\"\\nCurrent tracking uri: {}\".format(mlflow.get_tracking_uri()))\n",
        "\n",
        "from mlflow.tracking.client import MlflowClient\n",
        "from mlflow.artifacts import download_artifacts\n",
        "\n",
        "# Initialize MLFlow client\n",
        "mlflow_client = MlflowClient()"
      ],
      "outputs": [
        {
          "output_type": "stream",
          "name": "stderr",
          "text": "/anaconda/envs/azureml_py310_sdkv2/lib/python3.10/site-packages/azureml/mlflow/_protos/aml_service_pb2.py:10: UserWarning: google.protobuf.service module is deprecated. RPC implementations should provide code generator plugins which generate code specific to the RPC implementation. service.py will be removed in Jan 2025\n  from google.protobuf import service as _service\n"
        }
      ],
      "execution_count": 8,
      "metadata": {
        "gather": {
          "logged": 1737469527484
        }
      }
    },
    {
      "cell_type": "code",
      "source": [
        "job_name = returned_job.name\n",
        "\n",
        "# Example if providing an specific Job name/ID\n",
        "# job_name = \"b4e95546-0aa1-448e-9ad6-002e3207b4fc\"\n",
        "\n",
        "# Get the parent run\n",
        "mlflow_parent_run = mlflow_client.get_run(job_name)\n",
        "\n",
        "print(\"Parent Run: \")\n",
        "print(mlflow_parent_run)"
      ],
      "outputs": [
        {
          "output_type": "stream",
          "name": "stdout",
          "text": "Parent Run: \n<Run: data=<RunData: metrics={'AUC_macro': 0.7806349653079421,\n 'AUC_micro': 0.8826162500000001,\n 'AUC_weighted': 0.7806349653079422,\n 'accuracy': 0.8204,\n 'average_precision_score_macro': 0.7348484716693705,\n 'average_precision_score_micro': 0.8724669200422046,\n 'average_precision_score_weighted': 0.8333295805443417,\n 'balanced_accuracy': 0.6583507368021954,\n 'f1_score_macro': 0.6834116942936708,\n 'f1_score_micro': 0.8204,\n 'f1_score_weighted': 0.7995623094560103,\n 'log_loss': 0.4287022823628952,\n 'matthews_correlation': 0.40314903424602333,\n 'norm_macro_recall': 0.31670147360439066,\n 'precision_score_macro': 0.7567052283061886,\n 'precision_score_micro': 0.8204,\n 'precision_score_weighted': 0.8037923336942328,\n 'recall_score_macro': 0.6583507368021954,\n 'recall_score_micro': 0.8204,\n 'recall_score_weighted': 0.8204,\n 'weighted_accuracy': 0.9055511810288003}, params={}, tags={'automl_best_child_run_id': 'frank_rocket_szndvt4fgq_3',\n 'fit_time_000': '0.4892316;6.641633800000001;0.8843447999999998;3;7',\n 'iteration_000': '0;1;2;3;4',\n 'mlflow.rootRunId': 'frank_rocket_szndvt4fgq',\n 'mlflow.runName': 'frank_rocket_szndvt4fgq',\n 'mlflow.user': 'oli',\n 'model_explain_best_run_child_id': 'frank_rocket_szndvt4fgq_3',\n 'model_explain_run': 'best_run',\n 'pipeline_id_000': '5dfac790c5c209f98a1da2dc1c7fb76f0397324f;c7af0367625be6ac5c2fecbfc72ed444cb7a2111;799d2168db11fc19b9e1c6c1df62f8981ad39fe9;__AutoML_Ensemble__;__AutoML_Stack_Ensemble__',\n 'predicted_cost_000': '0;0;0.5;0;0',\n 'run_algorithm_000': 'LightGBM;XGBoostClassifier;ExtremeRandomTrees;VotingEnsemble;StackEnsemble',\n 'run_preprocessor_000': 'MaxAbsScaler;MaxAbsScaler;MaxAbsScaler;;',\n 'score_000': '0.8196;0.8153666666666666;0.7491666666666668;0.8204;0.8194666666666667',\n 'training_percent_000': '100;100;100;100;100'}>, info=<RunInfo: artifact_uri='azureml://eastus2.api.azureml.ms/mlflow/v2.0/subscriptions/1f0ec4ef-e180-4466-9c30-2e149184e9ab/resourceGroups/OllyResource/providers/Microsoft.MachineLearningServices/workspaces/ml-labs/experiments/706004c8-b690-46cc-88c2-57a3df1f85db/runs/frank_rocket_szndvt4fgq/artifacts', end_time=1737468881679, experiment_id='706004c8-b690-46cc-88c2-57a3df1f85db', lifecycle_stage='active', run_id='frank_rocket_szndvt4fgq', run_name='frank_rocket_szndvt4fgq', run_uuid='frank_rocket_szndvt4fgq', start_time=1737468098968, status='FINISHED', user_id='23fe33bd-9d54-4e09-976a-9b61bf64a24f'>, inputs=<RunInputs: dataset_inputs=[]>>\n"
        }
      ],
      "execution_count": 9,
      "metadata": {
        "gather": {
          "logged": 1737469554261
        }
      }
    },
    {
      "cell_type": "code",
      "source": [
        "# Print parent run tags. 'automl_best_child_run_id' tag should be there.\n",
        "print(mlflow_parent_run.data.tags)"
      ],
      "outputs": [
        {
          "output_type": "stream",
          "name": "stdout",
          "text": "{'model_explain_run': 'best_run', 'pipeline_id_000': '5dfac790c5c209f98a1da2dc1c7fb76f0397324f;c7af0367625be6ac5c2fecbfc72ed444cb7a2111;799d2168db11fc19b9e1c6c1df62f8981ad39fe9;__AutoML_Ensemble__;__AutoML_Stack_Ensemble__', 'score_000': '0.8196;0.8153666666666666;0.7491666666666668;0.8204;0.8194666666666667', 'predicted_cost_000': '0;0;0.5;0;0', 'fit_time_000': '0.4892316;6.641633800000001;0.8843447999999998;3;7', 'training_percent_000': '100;100;100;100;100', 'iteration_000': '0;1;2;3;4', 'run_preprocessor_000': 'MaxAbsScaler;MaxAbsScaler;MaxAbsScaler;;', 'run_algorithm_000': 'LightGBM;XGBoostClassifier;ExtremeRandomTrees;VotingEnsemble;StackEnsemble', 'automl_best_child_run_id': 'frank_rocket_szndvt4fgq_3', 'model_explain_best_run_child_id': 'frank_rocket_szndvt4fgq_3', 'mlflow.rootRunId': 'frank_rocket_szndvt4fgq', 'mlflow.runName': 'frank_rocket_szndvt4fgq', 'mlflow.user': 'oli'}\n"
        }
      ],
      "execution_count": 10,
      "metadata": {
        "gather": {
          "logged": 1737469626055
        }
      }
    },
    {
      "cell_type": "code",
      "source": [
        "# Attempt to get the best model's child run using 'automl_best_child_run_id' tag\n",
        "best_child_run_id = mlflow_parent_run.data.tags.get(\"automl_best_child_run_id\")\n",
        "\n",
        "if best_child_run_id:\n",
        "    print(\"Found best child run id: \", best_child_run_id)\n",
        "    best_run = mlflow_client.get_run(best_child_run_id)\n",
        "else:\n",
        "    print(\"'automl_best_child_run_id' tag not found. Searching for best child run manually...\")\n",
        "\n",
        "    # Search for child runs of the parent run\n",
        "    parent_run_id = mlflow_parent_run.info.run_id\n",
        "    child_runs = mlflow.search_runs([parent_run_id])\n",
        "\n",
        "    if len(child_runs) > 0:\n",
        "        # Sort child runs based on a metric, e.g., accuracy or any performance measure you care about\n",
        "        best_run = child_runs.iloc[child_runs['metrics.accuracy'].idxmax()]\n",
        "        best_child_run_id = best_run.run_id\n",
        "        print(f\"Found best child run id: {best_child_run_id} with accuracy: {best_run['metrics.accuracy']}\")\n",
        "    else:\n",
        "        print(\"No child runs found for the given parent run.\")\n",
        "\n",
        "# If a best run is found, you can proceed to work with it\n",
        "if best_child_run_id:\n",
        "    best_run = mlflow_client.get_run(best_child_run_id)\n",
        "    print(\"Best child run details: \")\n",
        "    print(best_run)\n",
        "else:\n",
        "    print(\"Unable to find a best child run.\")"
      ],
      "outputs": [
        {
          "output_type": "stream",
          "name": "stdout",
          "text": "Found best child run id:  frank_rocket_szndvt4fgq_3\nBest child run details: \n<Run: data=<RunData: metrics={'AUC_macro': 0.7806349653079421,\n 'AUC_micro': 0.8826162500000001,\n 'AUC_weighted': 0.7806349653079422,\n 'accuracy': 0.8204,\n 'average_precision_score_macro': 0.7348484716693705,\n 'average_precision_score_micro': 0.8724669200422046,\n 'average_precision_score_weighted': 0.8333295805443417,\n 'balanced_accuracy': 0.6583507368021954,\n 'f1_score_macro': 0.6834116942936708,\n 'f1_score_micro': 0.8204,\n 'f1_score_weighted': 0.7995623094560103,\n 'log_loss': 0.4287022823628952,\n 'matthews_correlation': 0.40314903424602333,\n 'norm_macro_recall': 0.31670147360439066,\n 'precision_score_macro': 0.7567052283061886,\n 'precision_score_micro': 0.8204,\n 'precision_score_weighted': 0.8037923336942328,\n 'recall_score_macro': 0.6583507368021954,\n 'recall_score_micro': 0.8204,\n 'recall_score_weighted': 0.8204,\n 'weighted_accuracy': 0.9055511810288003}, params={}, tags={'mlflow.parentRunId': 'frank_rocket_szndvt4fgq',\n 'mlflow.rootRunId': 'frank_rocket_szndvt4fgq',\n 'mlflow.runName': 'yellow_spoon_kxkqkfxg',\n 'mlflow.source.name': 'automl_driver.py',\n 'mlflow.source.type': 'JOB',\n 'mlflow.user': 'oli',\n 'model_explain_run_id': 'frank_rocket_szndvt4fgq_ModelExplain',\n 'model_explanation': 'True'}>, info=<RunInfo: artifact_uri='azureml://eastus2.api.azureml.ms/mlflow/v2.0/subscriptions/1f0ec4ef-e180-4466-9c30-2e149184e9ab/resourceGroups/OllyResource/providers/Microsoft.MachineLearningServices/workspaces/ml-labs/experiments/706004c8-b690-46cc-88c2-57a3df1f85db/runs/frank_rocket_szndvt4fgq_3/artifacts', end_time=1737468822246, experiment_id='706004c8-b690-46cc-88c2-57a3df1f85db', lifecycle_stage='active', run_id='frank_rocket_szndvt4fgq_3', run_name='yellow_spoon_kxkqkfxg', run_uuid='frank_rocket_szndvt4fgq_3', start_time=1737468776036, status='FINISHED', user_id='23fe33bd-9d54-4e09-976a-9b61bf64a24f'>, inputs=<RunInputs: dataset_inputs=[]>>\n"
        }
      ],
      "execution_count": 11,
      "metadata": {
        "gather": {
          "logged": 1737469651512
        }
      }
    },
    {
      "cell_type": "code",
      "source": [
        "# Check the status of the parent run\n",
        "print(\"Parent run status: \", mlflow_parent_run.info.status)"
      ],
      "outputs": [
        {
          "output_type": "stream",
          "name": "stdout",
          "text": "Parent run status:  FINISHED\n"
        }
      ],
      "execution_count": 12,
      "metadata": {
        "gather": {
          "logged": 1737469666733
        }
      }
    },
    {
      "cell_type": "code",
      "source": [
        "# Force refresh the parent run info\n",
        "mlflow_parent_run = mlflow_client.get_run(mlflow_parent_run.info.run_id)\n",
        "print(\"Updated Parent run status: \", mlflow_parent_run.info.status)"
      ],
      "outputs": [
        {
          "output_type": "stream",
          "name": "stdout",
          "text": "Updated Parent run status:  FINISHED\n"
        }
      ],
      "execution_count": 13,
      "metadata": {
        "gather": {
          "logged": 1737469954097
        }
      }
    },
    {
      "cell_type": "code",
      "source": [
        "# Get the best model's child run\n",
        "\n",
        "best_child_run_id = mlflow_parent_run.data.tags[\"automl_best_child_run_id\"]\n",
        "print(\"Found best child run id: \", best_child_run_id)\n",
        "\n",
        "best_run = mlflow_client.get_run(best_child_run_id)\n",
        "\n",
        "print(\"Best child run: \")\n",
        "print(best_run)"
      ],
      "outputs": [
        {
          "output_type": "stream",
          "name": "stdout",
          "text": "Found best child run id:  frank_rocket_szndvt4fgq_3\nBest child run: \n<Run: data=<RunData: metrics={'AUC_macro': 0.7806349653079421,\n 'AUC_micro': 0.8826162500000001,\n 'AUC_weighted': 0.7806349653079422,\n 'accuracy': 0.8204,\n 'average_precision_score_macro': 0.7348484716693705,\n 'average_precision_score_micro': 0.8724669200422046,\n 'average_precision_score_weighted': 0.8333295805443417,\n 'balanced_accuracy': 0.6583507368021954,\n 'f1_score_macro': 0.6834116942936708,\n 'f1_score_micro': 0.8204,\n 'f1_score_weighted': 0.7995623094560103,\n 'log_loss': 0.4287022823628952,\n 'matthews_correlation': 0.40314903424602333,\n 'norm_macro_recall': 0.31670147360439066,\n 'precision_score_macro': 0.7567052283061886,\n 'precision_score_micro': 0.8204,\n 'precision_score_weighted': 0.8037923336942328,\n 'recall_score_macro': 0.6583507368021954,\n 'recall_score_micro': 0.8204,\n 'recall_score_weighted': 0.8204,\n 'weighted_accuracy': 0.9055511810288003}, params={}, tags={'mlflow.parentRunId': 'frank_rocket_szndvt4fgq',\n 'mlflow.rootRunId': 'frank_rocket_szndvt4fgq',\n 'mlflow.runName': 'yellow_spoon_kxkqkfxg',\n 'mlflow.source.name': 'automl_driver.py',\n 'mlflow.source.type': 'JOB',\n 'mlflow.user': 'oli',\n 'model_explain_run_id': 'frank_rocket_szndvt4fgq_ModelExplain',\n 'model_explanation': 'True'}>, info=<RunInfo: artifact_uri='azureml://eastus2.api.azureml.ms/mlflow/v2.0/subscriptions/1f0ec4ef-e180-4466-9c30-2e149184e9ab/resourceGroups/OllyResource/providers/Microsoft.MachineLearningServices/workspaces/ml-labs/experiments/706004c8-b690-46cc-88c2-57a3df1f85db/runs/frank_rocket_szndvt4fgq_3/artifacts', end_time=1737468822246, experiment_id='706004c8-b690-46cc-88c2-57a3df1f85db', lifecycle_stage='active', run_id='frank_rocket_szndvt4fgq_3', run_name='yellow_spoon_kxkqkfxg', run_uuid='frank_rocket_szndvt4fgq_3', start_time=1737468776036, status='FINISHED', user_id='23fe33bd-9d54-4e09-976a-9b61bf64a24f'>, inputs=<RunInputs: dataset_inputs=[]>>\n"
        }
      ],
      "execution_count": 14,
      "metadata": {
        "gather": {
          "logged": 1737469967254
        }
      }
    },
    {
      "cell_type": "code",
      "source": [
        "# import required libraries\n",
        "from azure.ai.ml.entities import (\n",
        "    ManagedOnlineEndpoint,\n",
        "    ManagedOnlineDeployment,\n",
        "    Model,\n",
        "    Environment,\n",
        "    CodeConfiguration,\n",
        "    ProbeSettings,\n",
        ")\n",
        "from azure.ai.ml.constants import ModelType"
      ],
      "outputs": [],
      "execution_count": 15,
      "metadata": {
        "gather": {
          "logged": 1737469983942
        }
      }
    },
    {
      "cell_type": "code",
      "source": [
        "import datetime\n",
        "\n",
        "# Generate a valid online endpoint name\n",
        "experiment_name = \"creditcarddata\"  # Ensure this starts with a letter and has no spaces or special characters\n",
        "timestamp = datetime.datetime.now().strftime(\"%m%d%H%M%S\")  # Removes microseconds for simplicity\n",
        "online_endpoint_name = f\"{experiment_name}-{timestamp}\"\n",
        "\n",
        "# Create an online endpoint with the unique name\n",
        "endpoint = ManagedOnlineEndpoint(\n",
        "    name=online_endpoint_name,\n",
        "    description=\"Online endpoint for the credit card data experiment.\",\n",
        "    auth_mode=\"key\",  # Default authentication mode\n",
        ")\n",
        "\n",
        "# Print the generated endpoint name\n",
        "print(f\"Generated online endpoint name: {online_endpoint_name}\")"
      ],
      "outputs": [
        {
          "output_type": "stream",
          "name": "stdout",
          "text": "Generated online endpoint name: creditcarddata-0121143325\n"
        }
      ],
      "execution_count": 16,
      "metadata": {
        "gather": {
          "logged": 1737470006501
        }
      }
    },
    {
      "cell_type": "code",
      "source": [
        "ml_client.begin_create_or_update(endpoint).result()"
      ],
      "outputs": [
        {
          "output_type": "execute_result",
          "execution_count": 17,
          "data": {
            "text/plain": "ManagedOnlineEndpoint({'public_network_access': 'Enabled', 'provisioning_state': 'Succeeded', 'scoring_uri': 'https://creditcarddata-0121143325.eastus2.inference.ml.azure.com/score', 'openapi_uri': 'https://creditcarddata-0121143325.eastus2.inference.ml.azure.com/swagger.json', 'name': 'creditcarddata-0121143325', 'description': 'Online endpoint for the credit card data experiment.', 'tags': {}, 'properties': {'createdBy': 'oli', 'createdAt': '2025-01-21T14:41:00.602983+0000', 'lastModifiedAt': '2025-01-21T14:41:00.602983+0000', 'azureml.onlineendpointid': '/subscriptions/1f0ec4ef-e180-4466-9c30-2e149184e9ab/resourcegroups/ollyresource/providers/microsoft.machinelearningservices/workspaces/ml-labs/onlineendpoints/creditcarddata-0121143325', 'AzureAsyncOperationUri': 'https://management.azure.com/subscriptions/1f0ec4ef-e180-4466-9c30-2e149184e9ab/providers/Microsoft.MachineLearningServices/locations/eastus2/mfeOperationsStatus/oeidp:d5b58883-d84c-475d-802e-5a75e70b79a9:d12347a3-87c7-4fbf-9245-5b595d2e9caa?api-version=2022-02-01-preview'}, 'print_as_yaml': False, 'id': '/subscriptions/1f0ec4ef-e180-4466-9c30-2e149184e9ab/resourceGroups/ollyresource/providers/Microsoft.MachineLearningServices/workspaces/ml-labs/onlineEndpoints/creditcarddata-0121143325', 'Resource__source_path': '', 'base_path': '/mnt/batch/tasks/shared/LS_root/mounts/clusters/oluchi1/code/Users/oluchi', 'creation_context': None, 'serialize': <msrest.serialization.Serializer object at 0x7fe894541b70>, 'auth_mode': 'key', 'location': 'eastus2', 'identity': <azure.ai.ml.entities._credentials.IdentityConfiguration object at 0x7fe894543bb0>, 'traffic': {}, 'mirror_traffic': {}, 'kind': 'Managed'})"
          },
          "metadata": {}
        }
      ],
      "execution_count": 17,
      "metadata": {
        "gather": {
          "logged": 1737470551974
        }
      }
    },
    {
      "cell_type": "code",
      "source": [
        "# Best child run ID\n",
        "best_child_run_id = \"frank_rocket_szndvt4fgq_3\"\n",
        "\n",
        "# Construct model path\n",
        "artifact_uri = f\"azureml://jobs/{best_child_run_id}/outputs/artifacts\"\n",
        "model_path = f\"{artifact_uri}/outputs/mlflow-model/\"\n",
        "\n",
        "# Define the model\n",
        "model = Model(\n",
        "    path=model_path,\n",
        "    name=\"creditcard-score-model\",\n",
        "    description=\"Classification model for credit card score detection\",\n",
        "    type=AssetTypes.MLFLOW_MODEL,\n",
        ")\n",
        "\n",
        "# Register the model\n",
        "registered_model = ml_client.models.create_or_update(model)\n",
        "print(f\"Registered model: {registered_model.name}, version: {registered_model.version}\")\n",
        "registered_model.id"
      ],
      "outputs": [
        {
          "output_type": "stream",
          "name": "stdout",
          "text": "Registered model: creditcard-score-model, version: 1\n"
        },
        {
          "output_type": "execute_result",
          "execution_count": 19,
          "data": {
            "text/plain": "'/subscriptions/1f0ec4ef-e180-4466-9c30-2e149184e9ab/resourceGroups/ollyresource/providers/Microsoft.MachineLearningServices/workspaces/ml-labs/models/creditcard-score-model/versions/1'"
          },
          "metadata": {}
        }
      ],
      "execution_count": 19,
      "metadata": {
        "gather": {
          "logged": 1737470705529
        }
      }
    },
    {
      "cell_type": "code",
      "source": [
        "deployment = ManagedOnlineDeployment(\n",
        "    name=\"creditcard-score-deploy\",\n",
        "    endpoint_name=online_endpoint_name,\n",
        "    model=registered_model.id,\n",
        "    instance_type=\"Standard_DS2_v2\",\n",
        "    instance_count=1,\n",
        "    liveness_probe=ProbeSettings(\n",
        "        failure_threshold=30,\n",
        "        success_threshold=1,\n",
        "        timeout=2,\n",
        "        period=10,\n",
        "        initial_delay=2000,\n",
        "    ),\n",
        "    readiness_probe=ProbeSettings(\n",
        "        failure_threshold=10,\n",
        "        success_threshold=1,\n",
        "        timeout=10,\n",
        "        period=10,\n",
        "        initial_delay=2000,\n",
        "    ),\n",
        ")"
      ],
      "outputs": [],
      "execution_count": 20,
      "metadata": {
        "gather": {
          "logged": 1737470721019
        }
      }
    },
    {
      "cell_type": "code",
      "source": [
        "ml_client.online_deployments.begin_create_or_update(deployment).result()"
      ],
      "outputs": [
        {
          "output_type": "stream",
          "name": "stderr",
          "text": "Instance type Standard_DS2_v2 may be too small for compute resources. Minimum recommended compute SKU is Standard_DS3_v2 for general purpose endpoints. Learn more about SKUs here: https://learn.microsoft.com/en-us/azure/machine-learning/referencemanaged-online-endpoints-vm-sku-list\nCheck: endpoint creditcarddata-0121143325 exists\n"
        },
        {
          "output_type": "stream",
          "name": "stdout",
          "text": "..................................................................................................................................................................................................................................................................................................................................................................................................................................................................................................................."
        },
        {
          "output_type": "execute_result",
          "execution_count": 21,
          "data": {
            "text/plain": "ManagedOnlineDeployment({'private_network_connection': None, 'package_model': False, 'provisioning_state': 'Succeeded', 'endpoint_name': 'creditcarddata-0121143325', 'type': 'Managed', 'name': 'creditcard-score-deploy', 'description': None, 'tags': {}, 'properties': {'AzureAsyncOperationUri': 'https://management.azure.com/subscriptions/1f0ec4ef-e180-4466-9c30-2e149184e9ab/providers/Microsoft.MachineLearningServices/locations/eastus2/mfeOperationsStatus/odidp:d5b58883-d84c-475d-802e-5a75e70b79a9:ffac0082-7f9c-47a6-befd-d201e940ec90?api-version=2023-04-01-preview'}, 'print_as_yaml': False, 'id': '/subscriptions/1f0ec4ef-e180-4466-9c30-2e149184e9ab/resourceGroups/ollyresource/providers/Microsoft.MachineLearningServices/workspaces/ml-labs/onlineEndpoints/creditcarddata-0121143325/deployments/creditcard-score-deploy', 'Resource__source_path': '', 'base_path': '/mnt/batch/tasks/shared/LS_root/mounts/clusters/oluchi1/code/Users/oluchi', 'creation_context': <azure.ai.ml._restclient.v2023_04_01_preview.models._models_py3.SystemData object at 0x7fe8940f5960>, 'serialize': <msrest.serialization.Serializer object at 0x7fe8940f5780>, 'model': '/subscriptions/1f0ec4ef-e180-4466-9c30-2e149184e9ab/resourceGroups/ollyresource/providers/Microsoft.MachineLearningServices/workspaces/ml-labs/models/creditcard-score-model/versions/1', 'code_configuration': None, 'environment': '/subscriptions/1f0ec4ef-e180-4466-9c30-2e149184e9ab/resourceGroups/ollyresource/providers/Microsoft.MachineLearningServices/workspaces/ml-labs/environments/DefaultNcdEnv-ai-ml-automl/versions/12', 'environment_variables': {'AML_APP_ROOT': '/var/mlflow_resources', 'AZUREML_ENTRY_SCRIPT': 'mlflow_score_script.py', 'AZUREML_MODEL_DIR': '/var/azureml-app/azureml-models/creditcard-score-model/1'}, 'app_insights_enabled': False, 'scale_settings': <azure.ai.ml.entities._deployment.scale_settings.DefaultScaleSettings object at 0x7fe8940f5630>, 'request_settings': <azure.ai.ml.entities._deployment.deployment_settings.OnlineRequestSettings object at 0x7fe8940f50f0>, 'liveness_probe': <azure.ai.ml.entities._deployment.deployment_settings.ProbeSettings object at 0x7fe8940f56c0>, 'readiness_probe': <azure.ai.ml.entities._deployment.deployment_settings.ProbeSettings object at 0x7fe8940f45e0>, 'instance_count': 1, 'arm_type': 'online_deployment', 'model_mount_path': None, 'instance_type': 'Standard_DS2_v2', 'data_collector': None, 'egress_public_network_access': 'Enabled'})"
          },
          "metadata": {}
        }
      ],
      "execution_count": 21,
      "metadata": {
        "gather": {
          "logged": 1737473324094
        }
      }
    },
    {
      "cell_type": "code",
      "source": [
        "# creditcard-score deployment to take 100% traffic\n",
        "endpoint.traffic = {\"creditcard-score-deploy\": 100}\n",
        "ml_client.begin_create_or_update(endpoint)"
      ],
      "outputs": [
        {
          "output_type": "execute_result",
          "execution_count": 22,
          "data": {
            "text/plain": "<azure.core.polling._poller.LROPoller at 0x7fe8940f4c10>"
          },
          "metadata": {}
        }
      ],
      "execution_count": 22,
      "metadata": {
        "gather": {
          "logged": 1737473324818
        }
      }
    },
    {
      "cell_type": "code",
      "source": [],
      "outputs": [],
      "execution_count": null,
      "metadata": {}
    }
  ],
  "metadata": {
    "kernelspec": {
      "name": "python310-sdkv2",
      "language": "python",
      "display_name": "Python 3.10 - SDK v2"
    },
    "language_info": {
      "name": "python",
      "version": "3.10.14",
      "mimetype": "text/x-python",
      "codemirror_mode": {
        "name": "ipython",
        "version": 3
      },
      "pygments_lexer": "ipython3",
      "nbconvert_exporter": "python",
      "file_extension": ".py"
    },
    "microsoft": {
      "ms_spell_check": {
        "ms_spell_check_language": "en"
      },
      "host": {
        "AzureML": {
          "notebookHasBeenCompleted": true
        }
      }
    },
    "kernel_info": {
      "name": "python310-sdkv2"
    },
    "nteract": {
      "version": "nteract-front-end@1.0.0"
    }
  },
  "nbformat": 4,
  "nbformat_minor": 2
}